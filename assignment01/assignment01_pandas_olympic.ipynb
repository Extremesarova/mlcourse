{
 "cells": [
  {
   "cell_type": "markdown",
   "metadata": {},
   "source": [
    "<img src=\"https://habrastorage.org/webt/ia/m9/zk/iam9zkyzqebnf_okxipihkgjwnw.jpeg\" />\n",
    "    \n",
    "**<center>[mlcourse.ai](https://mlcourse.ai) – Open Machine Learning Course** </center><br>\n",
    "Authors: Arina Lopukhova (@erynn), and [Yury Kashnitsky](https://yorko.github.io) (@yorko). Edited by Vadim Shestopalov (@vchulski). [mlcourse.ai](https://mlcourse.ai) is powered by [OpenDataScience (ods.ai)](https://ods.ai/) © 2017—2021 "
   ]
  },
  {
   "cell_type": "markdown",
   "metadata": {},
   "source": [
    "# <center>Assignment #1. Task </center> <a class=\"tocSkip\">\n",
    "## <center>Exploratory Data Analysis (EDA) of Olympic games with Pandas </center> <a class=\"tocSkip\">\n",
    "    \n",
    "<img src=\"https://habrastorage.org/webt/my/70/d9/my70d97xhwfj8krp2q2qmn_smww.png\" width=50%>"
   ]
  },
  {
   "cell_type": "markdown",
   "metadata": {},
   "source": [
    "There are ten questions about 120 years of Olympic history in this assignment.\n",
    "\n",
    "### Your task is to:\n",
    " 1. write code and perform computations in the cells below;\n",
    " 2. choose answers in the [webform](https://docs.google.com/forms/d/1SJcNJxnY5Wwb_sDSxmb-FyghraeOt-ZmQMA0XzOLu4I).\n",
    " \n",
    "*For discussions, please stick to [ODS Slack](https://opendatascience.slack.com/), channel __#mlcourse_ai_eng__, pinned thread __#a1_bonus__. If you are sure that something is not 100% correct, please leave your feedback via the mentioned webform ↑*\n",
    "\n",
    "-----"
   ]
  },
  {
   "cell_type": "code",
   "execution_count": 1,
   "metadata": {},
   "outputs": [],
   "source": [
    "import os\n",
    "from pathlib import Path\n",
    "\n",
    "import numpy as np\n",
    "import pandas as pd"
   ]
  },
  {
   "cell_type": "code",
   "execution_count": 2,
   "metadata": {},
   "outputs": [],
   "source": [
    "PATH_TO_DATA = Path(\"data\")"
   ]
  },
  {
   "cell_type": "code",
   "execution_count": 3,
   "metadata": {},
   "outputs": [
    {
     "data": {
      "text/html": [
       "<div>\n",
       "<style scoped>\n",
       "    .dataframe tbody tr th:only-of-type {\n",
       "        vertical-align: middle;\n",
       "    }\n",
       "\n",
       "    .dataframe tbody tr th {\n",
       "        vertical-align: top;\n",
       "    }\n",
       "\n",
       "    .dataframe thead th {\n",
       "        text-align: right;\n",
       "    }\n",
       "</style>\n",
       "<table border=\"1\" class=\"dataframe\">\n",
       "  <thead>\n",
       "    <tr style=\"text-align: right;\">\n",
       "      <th></th>\n",
       "      <th>Name</th>\n",
       "      <th>Sex</th>\n",
       "      <th>Age</th>\n",
       "      <th>Height</th>\n",
       "      <th>Weight</th>\n",
       "      <th>Team</th>\n",
       "      <th>NOC</th>\n",
       "      <th>Games</th>\n",
       "      <th>Year</th>\n",
       "      <th>Season</th>\n",
       "      <th>City</th>\n",
       "      <th>Sport</th>\n",
       "      <th>Event</th>\n",
       "      <th>Medal</th>\n",
       "    </tr>\n",
       "    <tr>\n",
       "      <th>ID</th>\n",
       "      <th></th>\n",
       "      <th></th>\n",
       "      <th></th>\n",
       "      <th></th>\n",
       "      <th></th>\n",
       "      <th></th>\n",
       "      <th></th>\n",
       "      <th></th>\n",
       "      <th></th>\n",
       "      <th></th>\n",
       "      <th></th>\n",
       "      <th></th>\n",
       "      <th></th>\n",
       "      <th></th>\n",
       "    </tr>\n",
       "  </thead>\n",
       "  <tbody>\n",
       "    <tr>\n",
       "      <th>1</th>\n",
       "      <td>A Dijiang</td>\n",
       "      <td>M</td>\n",
       "      <td>24.0</td>\n",
       "      <td>180.0</td>\n",
       "      <td>80.0</td>\n",
       "      <td>China</td>\n",
       "      <td>CHN</td>\n",
       "      <td>1992 Summer</td>\n",
       "      <td>1992</td>\n",
       "      <td>Summer</td>\n",
       "      <td>Barcelona</td>\n",
       "      <td>Basketball</td>\n",
       "      <td>Basketball Men's Basketball</td>\n",
       "      <td>NaN</td>\n",
       "    </tr>\n",
       "    <tr>\n",
       "      <th>2</th>\n",
       "      <td>A Lamusi</td>\n",
       "      <td>M</td>\n",
       "      <td>23.0</td>\n",
       "      <td>170.0</td>\n",
       "      <td>60.0</td>\n",
       "      <td>China</td>\n",
       "      <td>CHN</td>\n",
       "      <td>2012 Summer</td>\n",
       "      <td>2012</td>\n",
       "      <td>Summer</td>\n",
       "      <td>London</td>\n",
       "      <td>Judo</td>\n",
       "      <td>Judo Men's Extra-Lightweight</td>\n",
       "      <td>NaN</td>\n",
       "    </tr>\n",
       "  </tbody>\n",
       "</table>\n",
       "</div>"
      ],
      "text/plain": [
       "         Name Sex   Age  Height  Weight   Team  NOC        Games  Year  \\\n",
       "ID                                                                       \n",
       "1   A Dijiang   M  24.0   180.0    80.0  China  CHN  1992 Summer  1992   \n",
       "2    A Lamusi   M  23.0   170.0    60.0  China  CHN  2012 Summer  2012   \n",
       "\n",
       "    Season       City       Sport                         Event Medal  \n",
       "ID                                                                     \n",
       "1   Summer  Barcelona  Basketball   Basketball Men's Basketball   NaN  \n",
       "2   Summer     London        Judo  Judo Men's Extra-Lightweight   NaN  "
      ]
     },
     "execution_count": 3,
     "metadata": {},
     "output_type": "execute_result"
    }
   ],
   "source": [
    "df = pd.read_csv(os.path.join(PATH_TO_DATA, \"athlete_events.csv.zip\"), index_col=\"ID\")\n",
    "df.head(2)"
   ]
  },
  {
   "cell_type": "markdown",
   "metadata": {},
   "source": [
    " The dataset has the following features:\n",
    "\n",
    "- __ID__ – Unique number for each athlete\n",
    "- __Name__ – Athlete's name\n",
    "- __Sex__ – M or F\n",
    "- __Age__ – Integer\n",
    "- __Height__ – In centimeters\n",
    "- __Weight__ – In kilograms\n",
    "- __Team__ – Team name\n",
    "- __NOC__ – National Olympic Committee 3-letter code\n",
    "- __Games__ – Year and season\n",
    "- __Year__ – Integer\n",
    "- __Season__ – Summer or Winter\n",
    "- __City__ – Host city\n",
    "- __Sport__ – Sport\n",
    "- __Event__ – Event\n",
    "- __Medal__ – Gold, Silver, Bronze, or NA"
   ]
  },
  {
   "cell_type": "markdown",
   "metadata": {},
   "source": [
    "#### **<font color='red'>Question 1.</font> How old were the youngest male and female participants of the 1992 Olympics?**\n",
    "\n",
    "- 16 and 15\n",
    "- 14 and 13 \n",
    "- 13 and 11\n",
    "- 11 and 12 **[+]**"
   ]
  },
  {
   "cell_type": "code",
   "execution_count": 4,
   "metadata": {},
   "outputs": [
    {
     "data": {
      "text/html": [
       "<div>\n",
       "<style scoped>\n",
       "    .dataframe tbody tr th:only-of-type {\n",
       "        vertical-align: middle;\n",
       "    }\n",
       "\n",
       "    .dataframe tbody tr th {\n",
       "        vertical-align: top;\n",
       "    }\n",
       "\n",
       "    .dataframe thead th {\n",
       "        text-align: right;\n",
       "    }\n",
       "</style>\n",
       "<table border=\"1\" class=\"dataframe\">\n",
       "  <thead>\n",
       "    <tr style=\"text-align: right;\">\n",
       "      <th></th>\n",
       "      <th>min</th>\n",
       "    </tr>\n",
       "    <tr>\n",
       "      <th>Sex</th>\n",
       "      <th></th>\n",
       "    </tr>\n",
       "  </thead>\n",
       "  <tbody>\n",
       "    <tr>\n",
       "      <th>F</th>\n",
       "      <td>12.0</td>\n",
       "    </tr>\n",
       "    <tr>\n",
       "      <th>M</th>\n",
       "      <td>11.0</td>\n",
       "    </tr>\n",
       "  </tbody>\n",
       "</table>\n",
       "</div>"
      ],
      "text/plain": [
       "      min\n",
       "Sex      \n",
       "F    12.0\n",
       "M    11.0"
      ]
     },
     "execution_count": 4,
     "metadata": {},
     "output_type": "execute_result"
    }
   ],
   "source": [
    "df[df[\"Year\"] == 1992].groupby(\"Sex\")[\"Age\"].agg([\"min\"])"
   ]
  },
  {
   "cell_type": "markdown",
   "metadata": {},
   "source": [
    "#### **<font color='red'>Question 2.</font> What was the percentage of male basketball players among all the male participants of the 2012 Olympics? Round the answer to the first decimal.**\n",
    "\n",
    "*Hint:* drop duplicate athletes where necessary to count each athlete just once. This applies to other questions as well.\n",
    "\n",
    "- 0.2\n",
    "- 1.5 \n",
    "- 2.5 **[+]**\n",
    "- 7.7"
   ]
  },
  {
   "cell_type": "code",
   "execution_count": 5,
   "metadata": {},
   "outputs": [
    {
     "data": {
      "text/plain": [
       "2.5"
      ]
     },
     "execution_count": 5,
     "metadata": {},
     "output_type": "execute_result"
    }
   ],
   "source": [
    "target_df = df[(df[\"Year\"] == 2012) & (df[\"Sex\"] == \"M\")][[\"Name\", \"Sport\"]].drop_duplicates()\n",
    "basketball_count = 100 * target_df[target_df[\"Sport\"] == \"Basketball\"].shape[0] / target_df.shape[0]\n",
    "\n",
    "round(basketball_count, 1)"
   ]
  },
  {
   "cell_type": "markdown",
   "metadata": {},
   "source": [
    "#### **<font color='red'>Question 3.</font> What are the mean and standard deviation of height for female tennis players who participated in the 2000 Olympics? Round the answer to the first decimal.**\n",
    "\n",
    "- 171.8 and 6.5 **[+]**\n",
    "- 179.4 and 10\n",
    "- 180.7 and 6.7\n",
    "- 182.4 and 9.1 "
   ]
  },
  {
   "cell_type": "code",
   "execution_count": 6,
   "metadata": {},
   "outputs": [
    {
     "data": {
      "text/plain": [
       "mean    171.8\n",
       "std       6.5\n",
       "Name: Height, dtype: float64"
      ]
     },
     "execution_count": 6,
     "metadata": {},
     "output_type": "execute_result"
    }
   ],
   "source": [
    "target_df = df[(df[\"Sex\"] == \"F\") & (df[\"Year\"] == 2000) & (df[\"Sport\"] == \"Tennis\")].drop_duplicates()\n",
    "target_df[\"Height\"].agg([\"mean\", \"std\"]).round(1)"
   ]
  },
  {
   "cell_type": "markdown",
   "metadata": {},
   "source": [
    "**<font color='red'>Question 4.</font> Find the heaviest athlete among 2006 Olympics participants. What sport did he or she do?**\n",
    "\n",
    "- Judo \n",
    "- Bobsleigh \n",
    "- Skeleton **[+]**\n",
    "- Boxing"
   ]
  },
  {
   "cell_type": "code",
   "execution_count": 7,
   "metadata": {},
   "outputs": [
    {
     "data": {
      "text/plain": [
       "array(['Skeleton'], dtype=object)"
      ]
     },
     "execution_count": 7,
     "metadata": {},
     "output_type": "execute_result"
    }
   ],
   "source": [
    "target_df = df[df[\"Year\"] == 2006]\n",
    "max_weight = target_df.sort_values(by=\"Weight\", ascending=False)[\"Weight\"].values[0]\n",
    "target_df[target_df[\"Weight\"] == max_weight][\"Sport\"].unique()"
   ]
  },
  {
   "cell_type": "markdown",
   "metadata": {},
   "source": [
    "#### **<font color='red'>Question 5.</font> How many times did John Aalberg participate in the Olympics held in different years?**\n",
    "\n",
    "- 0\n",
    "- 1 \n",
    "- 2 **[+]**\n",
    "- 3 "
   ]
  },
  {
   "cell_type": "code",
   "execution_count": 8,
   "metadata": {},
   "outputs": [
    {
     "data": {
      "text/plain": [
       "2"
      ]
     },
     "execution_count": 8,
     "metadata": {},
     "output_type": "execute_result"
    }
   ],
   "source": [
    "df[df[\"Name\"] == \"John Aalberg\"][\"Games\"].nunique()"
   ]
  },
  {
   "cell_type": "markdown",
   "metadata": {
    "tags": []
   },
   "source": [
    "#### **<font color='red'>Question 6.</font> How many gold medals in tennis did the Switzerland team win at the 2008 Olympics?**\n",
    "\n",
    "- 0\n",
    "- 1 \n",
    "- 2 **[+]**\n",
    "- 3 "
   ]
  },
  {
   "cell_type": "code",
   "execution_count": 9,
   "metadata": {},
   "outputs": [
    {
     "data": {
      "text/plain": [
       "2"
      ]
     },
     "execution_count": 9,
     "metadata": {},
     "output_type": "execute_result"
    }
   ],
   "source": [
    "df[(df[\"Team\"] == \"Switzerland\") & (df[\"Sport\"] == \"Tennis\") & (df[\"Year\"] == 2008) & (df[\"Medal\"] == \"Gold\")][\n",
    "    \"Medal\"\n",
    "].count()"
   ]
  },
  {
   "cell_type": "markdown",
   "metadata": {
    "tags": []
   },
   "source": [
    "#### **<font color='red'>Question 7.</font>  Is it true that Spain won fewer medals than Italy at the 2016 Olympics? Do not consider NaN values in the _Medal_ column.**\n",
    "\n",
    "- Yes **[+]**\n",
    "- No "
   ]
  },
  {
   "cell_type": "code",
   "execution_count": 10,
   "metadata": {},
   "outputs": [
    {
     "data": {
      "text/plain": [
       "Team\n",
       "Italy    70\n",
       "Spain    43\n",
       "Name: Medal, dtype: int64"
      ]
     },
     "execution_count": 10,
     "metadata": {},
     "output_type": "execute_result"
    }
   ],
   "source": [
    "df[(df[\"Year\"] == 2016) & ~(df[\"Medal\"].isna()) & (df[\"Team\"].isin([\"Spain\", \"Italy\"]))].groupby(\"Team\")[\n",
    "    \"Medal\"\n",
    "].count()"
   ]
  },
  {
   "cell_type": "markdown",
   "metadata": {},
   "source": [
    "#### **<font color='red'>Question 8.</font> What are the least and most common age groups among the participants of the 2008 Olympics?**\n",
    "- [45-55] and [25-35) correspondingly\n",
    "- [45-55] and [15-25) correspondingly **[+]**\n",
    "- [35-45) and [25-35) correspondingly\n",
    "- [45-55] and [35-45) correspondingly"
   ]
  },
  {
   "cell_type": "code",
   "execution_count": 11,
   "metadata": {},
   "outputs": [
    {
     "name": "stdout",
     "output_type": "stream",
     "text": [
      "15 25\n",
      "25 35\n",
      "35 45\n",
      "45 55\n"
     ]
    }
   ],
   "source": [
    "target_df = df[df[\"Year\"] == 2008].drop_duplicates(subset=\"Name\").copy()\n",
    "ages = [15, 25, 35, 45, 55]\n",
    "\n",
    "for i in range(len(ages) - 1):\n",
    "    l, r = ages[i], ages[i + 1]\n",
    "    target_df[f\"age_{l}_{r}\"] = np.logical_and(target_df[\"Age\"] >= l, target_df[\"Age\"] < r)\n",
    "    print(l, r)"
   ]
  },
  {
   "cell_type": "code",
   "execution_count": 12,
   "metadata": {},
   "outputs": [
    {
     "name": "stdout",
     "output_type": "stream",
     "text": [
      "age_15_25 4776\n",
      "age_25_35 5373\n",
      "age_35_45 630\n",
      "age_45_55 76\n"
     ]
    }
   ],
   "source": [
    "for col in target_df.columns:\n",
    "    if col.startswith(\"age_\"):\n",
    "        print(col, target_df[col].sum())"
   ]
  },
  {
   "cell_type": "markdown",
   "metadata": {},
   "source": [
    "\"Fancier\" way:"
   ]
  },
  {
   "cell_type": "code",
   "execution_count": 13,
   "metadata": {},
   "outputs": [
    {
     "data": {
      "text/plain": [
       "age_category\n",
       "[15, 25)    4776\n",
       "[25, 35)    5373\n",
       "[35, 45)     630\n",
       "[45, 55]      78\n",
       "dtype: int64"
      ]
     },
     "execution_count": 13,
     "metadata": {},
     "output_type": "execute_result"
    }
   ],
   "source": [
    "def age_category(age):\n",
    "    \"\"\"Maps age to four categories\"\"\"\n",
    "\n",
    "    if 15 <= age < 25:\n",
    "        return \"[15, 25)\"\n",
    "    elif 25 <= age < 35:\n",
    "        return \"[25, 35)\"\n",
    "    elif 35 <= age < 45:\n",
    "        return \"[35, 45)\"\n",
    "    elif 45 <= age <= 55:\n",
    "        return \"[45, 55]\"\n",
    "\n",
    "\n",
    "# map() applies age_category() function to every value in dfAge\n",
    "df[\"age_category\"] = df[\"Age\"].map(age_category)\n",
    "(df[df.Year == 2008].drop_duplicates(subset=\"Name\").groupby(\"age_category\").size())"
   ]
  },
  {
   "cell_type": "markdown",
   "metadata": {},
   "source": [
    "#### **<font color='red'>Question 9.</font> Is it true that there were Summer Olympics held in Atlanta? Is it true that there were Winter Olympics held in Squaw Valley?**\n",
    "\n",
    "- Yes, Yes **[+]**\n",
    "- Yes, No\n",
    "- No, Yes \n",
    "- No, No"
   ]
  },
  {
   "cell_type": "code",
   "execution_count": 14,
   "metadata": {},
   "outputs": [
    {
     "data": {
      "text/plain": [
       "(True, True)"
      ]
     },
     "execution_count": 14,
     "metadata": {},
     "output_type": "execute_result"
    }
   ],
   "source": [
    "\"Atlanta\" in df[df[\"Season\"] == \"Summer\"][\"City\"].values, \"Squaw Valley\" in df[df[\"Season\"] == \"Winter\"][\"City\"].values"
   ]
  },
  {
   "cell_type": "markdown",
   "metadata": {},
   "source": [
    "#### **<font color='red'>Question 10.</font> What is the absolute difference between the number of unique sports at the 1994 Olympics and 2002 Olympics?**\n",
    "\n",
    "- 3 **[+]**\n",
    "- 10\n",
    "- 15 \n",
    "- 27 "
   ]
  },
  {
   "cell_type": "code",
   "execution_count": 15,
   "metadata": {},
   "outputs": [
    {
     "data": {
      "text/plain": [
       "3"
      ]
     },
     "execution_count": 15,
     "metadata": {},
     "output_type": "execute_result"
    }
   ],
   "source": [
    "np.abs(df[df[\"Year\"] == 1994][\"Sport\"].nunique() - df[df[\"Year\"] == 2002][\"Sport\"].nunique())"
   ]
  }
 ],
 "metadata": {
  "kernelspec": {
   "display_name": "mlcourse_ai_bonus",
   "language": "python",
   "name": "mlcourse_ai_bonus"
  },
  "language_info": {
   "codemirror_mode": {
    "name": "ipython",
    "version": 3
   },
   "file_extension": ".py",
   "mimetype": "text/x-python",
   "name": "python",
   "nbconvert_exporter": "python",
   "pygments_lexer": "ipython3",
   "version": "3.8.10"
  }
 },
 "nbformat": 4,
 "nbformat_minor": 4
}
