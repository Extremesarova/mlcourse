{
 "cells": [
  {
   "cell_type": "markdown",
   "metadata": {},
   "source": [
    "<img src=\"https://habrastorage.org/webt/ia/m9/zk/iam9zkyzqebnf_okxipihkgjwnw.jpeg\" />\n",
    "    \n",
    "**<center>[mlcourse.ai](https://mlcourse.ai) – Open Machine Learning Course** </center><br>\n",
    "Author: [Yury Kashnitsky](https://yorko.github.io) (@yorko). Edited by Anna Tarelina (@feuerengel).[mlcourse.ai](https://mlcourse.ai) is powered by [OpenDataScience (ods.ai)](https://ods.ai/) © 2017—2021"
   ]
  },
  {
   "cell_type": "markdown",
   "metadata": {},
   "source": [
    "# <center>Assignment #3. Optional part. Task </center> <a class=\"tocSkip\">\n",
    "## <center>Implementation of the decision tree algorithm </center><a class=\"tocSkip\">\n",
    "\n",
    "If you want to truly understand the algorithm that you are using, it's good to implement it from scratch. Have to say, it's not necessary if you just want to apply an algorithm in practice. However, if you love math, algorithms and programming, you'll enjoy this task.  \n",
    "\n",
    "### Your task is to:\n",
    " 1. write code and perform computations in the cells below;\n",
    " 2. choose answers in the [webform](https://docs.google.com/forms/d/1SYwUD0Yx_bcykq6EqFQ4Ug0KaQWG4L7bAlL5yGedZnw).\n",
    "    \n",
    "\n",
    "*For discussions, please stick to [ODS Slack](https://opendatascience.slack.com/), channel __#mlcourse_ai_eng__, pinned thread __#a3_bonus__. If you are sure that something is not 100% correct, please leave your feedback via the mentioned webform ↑*\n",
    "\n",
    "-----"
   ]
  },
  {
   "cell_type": "code",
   "execution_count": 1,
   "metadata": {},
   "outputs": [],
   "source": [
    "import matplotlib.pyplot as plt\n",
    "from collections import Counter\n",
    "\n",
    "import numpy as np\n",
    "\n",
    "# if seaborn is not yet installed, run `pip install seaborn` in terminal\n",
    "import seaborn as sns\n",
    "from sklearn.base import BaseEstimator\n",
    "from sklearn.datasets import (\n",
    "    load_boston,\n",
    "    load_digits,\n",
    "    make_classification,\n",
    "    make_regression,\n",
    ")\n",
    "from sklearn.metrics import accuracy_score, mean_squared_error\n",
    "from sklearn.model_selection import GridSearchCV, train_test_split\n",
    "\n",
    "sns.set()\n",
    "\n",
    "# sharper plots\n",
    "%config InlineBackend.figure_format = 'retina'\n"
   ]
  },
  {
   "cell_type": "markdown",
   "metadata": {},
   "source": [
    "Let's fix `random_state` (a.k.a. random seed) beforehand."
   ]
  },
  {
   "cell_type": "code",
   "execution_count": 2,
   "metadata": {},
   "outputs": [],
   "source": [
    "RANDOM_STATE = 17\n"
   ]
  },
  {
   "cell_type": "markdown",
   "metadata": {},
   "source": [
    "**Implement the class `DecisionTree`**  \n",
    "**Specification:**\n",
    "- the class is inherited from `sklearn.BaseEstimator`;\n",
    "- class constructor has the following parameters: \n",
    "    - `max_depth` - maximum depth of the tree (`numpy.inf` by default); \n",
    "    - `min_samples_split` - the minimum number of instances in a node for a splitting to be done (2 by default); \n",
    "    - `criterion` - split criterion ('gini' or 'entropy' for classification, 'variance' or 'mad_median' for regression; 'gini' by default);\n",
    "- the class has several methods: `fit`, `predict` and `predict_proba`;\n",
    "- the `fit` method takes the matrix of instances `X` and a target vector `y` (`numpy.ndarray` objects) and returns an instance of the class `DecisionTree` representing the decision tree trained on the dataset `(X, y)` according to parameters set in the constructor; \n",
    "- the `predict_proba` method takes the matrix of instances `X` and returns the matrix `P` of a size `X.shape[0] x K`, where `K` is the number of classes and $p_{ij}$ is the probability of an instance in $i$-th row of `X` to belong to class $j \\in \\{1, \\dots, K\\}$.\n",
    "- the `predict` method takes the matrix of instances `X` and returns a prediction vector; in case of classification, prediction for an instance $x_i$ falling into leaf $L$ will be the class, mostly represented among instances in $L$. In case of regression, it'll be the mean value of targets for all instances in leaf $L$.\n",
    "\n",
    "A note on `criterion`: this is the functional to be maximized to find an optimal partition at a given node has the form $Q(X, j, t) = F(X) - \\dfrac{|X_l|}{|X|} F(X_l) - \\dfrac{|X_r|}{|X|} F(X_r),$ where $X$ are samples at a given node, $X_l$ and $X_r$ are partitions of samples $X$ into two parts with the following condition $[x_j < t]$, and $F(X)$ is a partition criterion.\n",
    "    \n",
    "For classification: let $p_i$ be the fraction of the instances of the $i$-th class in the dataset $X$.\n",
    "- 'gini': Gini impurity $F(X) = 1 -\\sum_{i = 1}^K p_i^2$.\n",
    "- 'entropy': Entropy $F(X) = -\\sum_{i = 1}^K p_i \\log_2(p_i)$.\n",
    "    \n",
    "For regression: $y_j = y(x_j)$ - is a target for an instance $x_j$, $y = (y_1, \\dots, y_{|X|})$ - is a target vector.\n",
    "- 'variance': Variance (mean quadratic deviation from average) $F(X) = \\dfrac{1}{|X|} \\sum_{x_j \\in X}(y_j - \\dfrac{1}{|X|}\\sum_{x_i \\in X}y_i)^2$\n",
    "- 'mad_median': Mean deviation from the median $F(X) = \\dfrac{1}{|X|} \\sum_{x_j \\in X}|y_j - \\mathrm{med}(y)|$\n",
    "    "
   ]
  },
  {
   "cell_type": "code",
   "execution_count": 42,
   "metadata": {},
   "outputs": [],
   "source": [
    "# You code here (read-only in a JupyterBook, pls run jupyter-notebook to edit)\n",
    "\n",
    "\n",
    "def entropy(y):\n",
    "    n = len(y)\n",
    "    e = 0\n",
    "    for class_ in np.unique(y):\n",
    "        p = len(y[y == class_]) / n\n",
    "        e -= p * np.log2(p)\n",
    "\n",
    "    return e\n",
    "\n",
    "\n",
    "def gini(y):\n",
    "    n = len(y)\n",
    "    g = 1\n",
    "\n",
    "    for class_ in np.unique(y):\n",
    "        p = len(y[y == class_]) / n\n",
    "        g -= np.power(p, 2)\n",
    "\n",
    "    return g\n",
    "\n",
    "\n",
    "def variance(y):\n",
    "    return np.var(y)\n",
    "\n",
    "\n",
    "def mad_median(y):\n",
    "    return np.mean(np.abs(y - np.median(y)))\n",
    "\n",
    "\n",
    "criteria = {\n",
    "    \"entropy\": entropy,\n",
    "    \"gini\": gini,\n",
    "    \"variance\": variance,\n",
    "    \"mad_median\": mad_median,\n",
    "}\n"
   ]
  },
  {
   "cell_type": "markdown",
   "metadata": {},
   "source": [
    "The `Node` class implements a node in the decision tree."
   ]
  },
  {
   "cell_type": "code",
   "execution_count": 6,
   "metadata": {},
   "outputs": [],
   "source": [
    "class Node:\n",
    "    def __init__(self, feature_idx=0, threshold=0, labels=None, left=None, right=None):\n",
    "        self.feature_idx = feature_idx\n",
    "        self.threshold = threshold\n",
    "        self.labels = labels\n",
    "        self.left = left\n",
    "        self.right = right\n"
   ]
  },
  {
   "cell_type": "markdown",
   "metadata": {},
   "source": [
    "Let's determine the function for calculating a prediction in a leaf. For regression, let's take the mean/median for all values in a leaf, for classification - the most popular class in leaf."
   ]
  },
  {
   "cell_type": "code",
   "execution_count": 24,
   "metadata": {},
   "outputs": [],
   "source": [
    "# You code here (read-only in a JupyterBook, pls run jupyter-notebook to edit)\n",
    "\n",
    "\n",
    "def regression_leaf_mean(y):\n",
    "    return np.mean(y)\n",
    "\n",
    "\n",
    "def regression_leaf_median(y):\n",
    "    return np.median(y)\n",
    "\n",
    "\n",
    "def classification_leaf(y):\n",
    "    return np.bincount(y).argmax()\n",
    "\n",
    "\n",
    "class DecisionTree(BaseEstimator):\n",
    "    def __init__(\n",
    "        self, max_depth=np.inf, min_samples_split=2, criterion=\"gini\", debug=False\n",
    "    ):\n",
    "        params = {\n",
    "            \"max_depth\": max_depth,\n",
    "            \"min_samples_split\": min_samples_split,\n",
    "            \"criterion\": criterion,\n",
    "            \"debug\": debug,\n",
    "        }\n",
    "\n",
    "        for param_name, param_value in params.items():\n",
    "            setattr(self, param_name, param_value)\n",
    "\n",
    "        super(DecisionTree, self).set_params(**params)\n",
    "\n",
    "        self._criterion_function = criteria[criterion]\n",
    "\n",
    "        if criterion == \"variance\":\n",
    "            self._leaf_value = regression_leaf_mean\n",
    "        elif criterion == \"mad_median\":\n",
    "            self._leaf_value = regression_leaf_median\n",
    "        else:\n",
    "            self._leaf_value = classification_leaf\n",
    "\n",
    "        if self.debug:\n",
    "            print(f\"\\nDecisionTree params:\\n{params}\")\n",
    "\n",
    "    def _quality_criterion(self, X, y, feature_idx, threshold):\n",
    "        mask = X[:, feature_idx] < threshold\n",
    "        n = X.shape[0]\n",
    "        n_left = np.sum(mask)\n",
    "        n_right = n - n_left\n",
    "\n",
    "        if n_left > 0 and n_right > 0:\n",
    "            return self._criterion_function(y) - (\n",
    "                n_left / n * self._criterion_function(y[mask])\n",
    "                + n_right / n * self._criterion_function(y[~mask])\n",
    "            )\n",
    "        else:\n",
    "            return 0\n",
    "\n",
    "    def _build_tree(self, X, y, depth=1):\n",
    "        max_functional = 0\n",
    "        best_feature_idx = None\n",
    "        best_threshold = None\n",
    "        n_samples, n_features = X.shape\n",
    "\n",
    "        # If all objects in a current vertex have the same values in answers\n",
    "        # then the value of the criterion will be 0 for all partitions.\n",
    "        # So in this case the vertex is a leaf. In order not to make unnecessary calculations,\n",
    "        # perform this check before the main cycle.\n",
    "        if len(np.unique(y)) == 1:\n",
    "            return Node(labels=y)\n",
    "\n",
    "        if depth < self.max_depth and n_samples >= self.min_samples_split:\n",
    "            if self.debug:\n",
    "                print(f\"depth = {depth}, n_samples = {n_samples}\")\n",
    "\n",
    "            for feature_idx in range(n_features):\n",
    "                threshold_values = np.unique(X[:, feature_idx])\n",
    "                functional_values = [\n",
    "                    self._quality_criterion(X, y, feature_idx, threshold)\n",
    "                    for threshold in threshold_values\n",
    "                ]\n",
    "\n",
    "                best_threshold_idx = np.nanargmax(functional_values)\n",
    "\n",
    "                if functional_values[best_threshold_idx] > max_functional:\n",
    "                    max_functional = functional_values[best_threshold_idx]\n",
    "                    best_threshold = threshold_values[best_threshold_idx]\n",
    "                    best_feature_idx = feature_idx\n",
    "                    best_mask = X[:, feature_idx] < best_threshold\n",
    "\n",
    "        if best_feature_idx is not None:\n",
    "            if self.debug:\n",
    "                print(\n",
    "                    \"best feature = {}, best threshold = {}\".format(\n",
    "                        best_feature_idx, best_threshold\n",
    "                    )\n",
    "                )\n",
    "            # In case of partition go next recursivelly...\n",
    "            return Node(\n",
    "                feature_idx=best_feature_idx,\n",
    "                threshold=best_threshold,\n",
    "                left=self._build_tree(\n",
    "                    X[best_mask, :], y[best_mask], depth + 1),\n",
    "                right=self._build_tree(\n",
    "                    X[~best_mask, :], y[~best_mask], depth + 1),\n",
    "            )\n",
    "        else:\n",
    "            # else the vertex is a leaf, leave recursion\n",
    "            return Node(labels=y)\n",
    "\n",
    "    def fit(self, X, y):\n",
    "        # In classification task memorize the number of classes\n",
    "        if self.criterion in [\"gini\", \"entropy\"]:\n",
    "            self._n_classes = len(np.unique(y))\n",
    "\n",
    "        self.root = self._build_tree(X, y)\n",
    "\n",
    "        return self\n",
    "\n",
    "    # Predict the answer for single object\n",
    "    def _predict_one_shot(self, x, node=None):\n",
    "\n",
    "        node = self.root\n",
    "        # Traverse from root to the leaf\n",
    "        while node.labels is None:\n",
    "            if x[node.feature_idx] < node.threshold:\n",
    "                node = node.left\n",
    "            else:\n",
    "                node = node.right\n",
    "        # Calculate the answer\n",
    "        return self._leaf_value(node.labels)\n",
    "\n",
    "    def predict(self, X):\n",
    "        return np.array([self._predict_one_shot(x) for x in X])\n",
    "\n",
    "    def _predict_proba_one_shot(self, x, node=None):\n",
    "\n",
    "        node = self.root\n",
    "        # Traverse from root to the leaf\n",
    "        while node.labels is None:\n",
    "            if x[node.feature_idx] < node.threshold:\n",
    "                node = node.left\n",
    "            else:\n",
    "                node = node.right\n",
    "        # Compute probabilities of classes\n",
    "        return [\n",
    "            len(node.labels[node.labels == k]) / len(node.labels)\n",
    "            for k in range(self._n_classes)\n",
    "        ]\n",
    "\n",
    "    def predict_proba(self, X):\n",
    "        return np.array([self._predict_proba_one_shot(x) for x in X])\n"
   ]
  },
  {
   "cell_type": "markdown",
   "metadata": {},
   "source": [
    "## Testing the implemented algorithm"
   ]
  },
  {
   "cell_type": "markdown",
   "metadata": {},
   "source": [
    "### Classification"
   ]
  },
  {
   "cell_type": "markdown",
   "metadata": {},
   "source": [
    "Download the dataset `digits` using the method `load_digits`. Split the data into train and test with the `train_test_split` method, use parameter values `test_size=0.2`, and `random_state=17`. Try to train shallow decision trees and make sure that gini and entropy criteria return different results."
   ]
  },
  {
   "cell_type": "code",
   "execution_count": 22,
   "metadata": {},
   "outputs": [],
   "source": [
    "# You code here (read-only in a JupyterBook, pls run jupyter-notebook to edit)\n",
    "digits = load_digits()\n",
    "X_train, X_test, y_train, y_test = train_test_split(\n",
    "    digits.data, digits.target, test_size=0.2, random_state=RANDOM_STATE\n",
    ")\n"
   ]
  },
  {
   "cell_type": "code",
   "execution_count": 25,
   "metadata": {
    "tags": []
   },
   "outputs": [
    {
     "name": "stdout",
     "output_type": "stream",
     "text": [
      "\n",
      "DecisionTree params:\n",
      "{'max_depth': 2, 'min_samples_split': 2, 'criterion': 'gini', 'debug': True}\n",
      "depth = 1, n_samples = 1437\n",
      "best feature = 36, best threshold = 1.0\n",
      "0.18888888888888888\n",
      "\n",
      "DecisionTree params:\n",
      "{'max_depth': 2, 'min_samples_split': 2, 'criterion': 'entropy', 'debug': True}\n",
      "depth = 1, n_samples = 1437\n",
      "best feature = 21, best threshold = 2.0\n",
      "0.175\n"
     ]
    }
   ],
   "source": [
    "clf1 = DecisionTree(max_depth=2, criterion=\"gini\", debug=True)\n",
    "clf1.fit(X_train, y_train)\n",
    "\n",
    "print(accuracy_score(clf1.predict(X_test), y_test))\n",
    "\n",
    "\n",
    "clf2 = DecisionTree(max_depth=2, criterion=\"entropy\", debug=True)\n",
    "clf2.fit(X_train, y_train)\n",
    "\n",
    "print(accuracy_score(clf2.predict(X_test), y_test))\n"
   ]
  },
  {
   "cell_type": "markdown",
   "metadata": {},
   "source": [
    "Using 5-folds cross-validation (`GridSearchCV`) pick up the optimal values of the `max_depth` and `criterion` parameters. For the parameter `max_depth` use range(3, 11), for criterion use {'gini', 'entropy'}. Quality measure is `scoring`='accuracy'."
   ]
  },
  {
   "cell_type": "code",
   "execution_count": 29,
   "metadata": {},
   "outputs": [
    {
     "name": "stdout",
     "output_type": "stream",
     "text": [
      "0.8434330236159504 {'max_depth': 10}\n",
      "CPU times: total: 4.02 s\n",
      "Wall time: 14.7 s\n"
     ]
    }
   ],
   "source": [
    "% % time\n",
    "tree_params = {\"max_depth\": list(range(3, 11))}\n",
    "\n",
    "grid_clf_crit_gini = GridSearchCV(\n",
    "    estimator=DecisionTree(criterion=\"gini\"),\n",
    "    param_grid=tree_params,\n",
    "    cv=5,\n",
    "    scoring=\"accuracy\",\n",
    "    n_jobs=-1,\n",
    ")\n",
    "\n",
    "grid_clf_crit_gini.fit(X_train, y_train)\n",
    "\n",
    "print(grid_clf_crit_gini.best_score_, grid_clf_crit_gini.best_params_)\n"
   ]
  },
  {
   "cell_type": "code",
   "execution_count": 32,
   "metadata": {},
   "outputs": [
    {
     "name": "stdout",
     "output_type": "stream",
     "text": [
      "0.8629186024003097 {'max_depth': 9}\n",
      "CPU times: total: 3.39 s\n",
      "Wall time: 13.6 s\n"
     ]
    }
   ],
   "source": [
    "% % time\n",
    "\n",
    "grid_clf_crit_entropy = GridSearchCV(\n",
    "    estimator=DecisionTree(criterion=\"entropy\"),\n",
    "    param_grid=tree_params,\n",
    "    cv=5,\n",
    "    scoring=\"accuracy\",\n",
    "    n_jobs=-1,\n",
    ")\n",
    "\n",
    "grid_clf_crit_entropy.fit(X_train, y_train)\n",
    "\n",
    "print(grid_clf_crit_entropy.best_score_, grid_clf_crit_entropy.best_params_)\n"
   ]
  },
  {
   "cell_type": "markdown",
   "metadata": {},
   "source": [
    "Draw the plot of the mean quality measure `accuracy` for criteria `gini` and `entropy` depending on `max_depth`."
   ]
  },
  {
   "cell_type": "code",
   "execution_count": 31,
   "metadata": {},
   "outputs": [
    {
     "data": {
      "image/png": "[encoded data removed]",
      "text/plain": [
       "<Figure size 432x288 with 1 Axes>"
      ]
     },
     "metadata": {
      "image/png": {
       "height": 266,
       "width": 389
      }
     },
     "output_type": "display_data"
    }
   ],
   "source": [
    "scores_for_crit_gini = np.array(\n",
    "    grid_clf_crit_gini.cv_results_[\"mean_test_score\"])\n",
    "scores_for_crit_entropy = np.array(\n",
    "    grid_clf_crit_entropy.cv_results_[\"mean_test_score\"])\n",
    "\n",
    "plt.plot(tree_params[\"max_depth\"], scores_for_crit_gini, label=\"gini\")\n",
    "plt.plot(tree_params[\"max_depth\"], scores_for_crit_entropy, label=\"entropy\")\n",
    "plt.legend(loc=\"best\")\n",
    "plt.xlabel(\"max_depth\")\n",
    "plt.ylabel(\"Accuracy\")\n",
    "plt.show()\n"
   ]
  },
  {
   "cell_type": "markdown",
   "metadata": {},
   "source": [
    "**<font color='red'>Question 1.</font> Choose all correct statements:**\n",
    "1. Optimal value of the `max_depth` parameter is on the interval [4, 9] for both criteria.\n",
    "2. Created plots have no intersection on the interval [3, 10] **[+]**\n",
    "3. Created plots intersect each other only once on the interval [3, 10].\n",
    "4. The best quality for `max_depth` on the interval [3, 10] is reached using `gini` criterion .\n",
    "5. Accuracy is strictly increasing at least for one of the criteria, when `max_depth` is also increasing on the interval [3, 10] **[+]**"
   ]
  },
  {
   "cell_type": "markdown",
   "metadata": {},
   "source": [
    "**<font color='red'>Question 2.</font> What are the optimal values for max_depth and criterion parameters?**\n",
    "1. max_depth = 7, criterion = 'gini';\n",
    "2. max_depth = 7, criterion = 'entropy';\n",
    "3. max_depth = 10, criterion = 'entropy';\n",
    "4. max_depth = 10, criterion = 'gini';\n",
    "5. max_depth = 9, criterion = 'entropy'; **[+]**\n",
    "6. max_depth = 9, criterion = 'gini';"
   ]
  },
  {
   "cell_type": "markdown",
   "metadata": {},
   "source": [
    "Train decision tree on `(X_train, y_train)` using the optimal values of `max_depth` and `criterion`. Compute class probabilities for `X_test`."
   ]
  },
  {
   "cell_type": "code",
   "execution_count": 33,
   "metadata": {},
   "outputs": [],
   "source": [
    "# You code here (read-only in a JupyterBook, pls run jupyter-notebook to edit)\n",
    "clf = DecisionTree(max_depth=9, criterion=\"entropy\")\n",
    "clf.fit(X_train, y_train)\n",
    "probs = clf.predict_proba(X_test)\n"
   ]
  },
  {
   "cell_type": "markdown",
   "metadata": {},
   "source": [
    "Using the given matrix, compute the mean class probabilities for all instances in `X_test`."
   ]
  },
  {
   "cell_type": "code",
   "execution_count": 35,
   "metadata": {},
   "outputs": [
    {
     "name": "stdout",
     "output_type": "stream",
     "text": [
      "[0.09166667 0.07700282 0.09854938 0.08930086 0.12690476 0.11898148\n",
      " 0.08194444 0.09805556 0.10465062 0.11294341] 0.12690476190476194\n"
     ]
    }
   ],
   "source": [
    "# You code here (read-only in a JupyterBook, pls run jupyter-notebook to edit)\n",
    "mean_probs = np.mean(probs, axis=0)\n",
    "print(mean_probs, max(mean_probs))\n"
   ]
  },
  {
   "cell_type": "markdown",
   "metadata": {},
   "source": [
    "**<font color='red'>Question 3.</font> What is the maximum probability in a resulted vector?**\n",
    "1. 0.127 **[+]**\n",
    "2. 0.118\n",
    "3. 1.0\n",
    "4. 0.09"
   ]
  },
  {
   "cell_type": "markdown",
   "metadata": {},
   "source": [
    "## Regression"
   ]
  },
  {
   "cell_type": "markdown",
   "metadata": {},
   "source": [
    "Download the dataset `boston` using the method `load_boston`. Split the data into train and test with the `train_test_split` method, use parameter values `test_size=0.2`, `random_state=17`. Try to train shallow regression decision trees and make sure that `variance` and `mad_median` criteria return different results."
   ]
  },
  {
   "cell_type": "code",
   "execution_count": 36,
   "metadata": {},
   "outputs": [
    {
     "name": "stderr",
     "output_type": "stream",
     "text": [
      "C:\\Users\\ryblo\\Documents\\projects\\mlcourse_ai_bonus_assignments\\venv\\lib\\site-packages\\sklearn\\utils\\deprecation.py:87: FutureWarning: Function load_boston is deprecated; `load_boston` is deprecated in 1.0 and will be removed in 1.2.\n",
      "\n",
      "    The Boston housing prices dataset has an ethical problem. You can refer to\n",
      "    the documentation of this function for further details.\n",
      "\n",
      "    The scikit-learn maintainers therefore strongly discourage the use of this\n",
      "    dataset unless the purpose of the code is to study and educate about\n",
      "    ethical issues in data science and machine learning.\n",
      "\n",
      "    In this special case, you can fetch the dataset from the original\n",
      "    source::\n",
      "\n",
      "        import pandas as pd\n",
      "        import numpy as np\n",
      "\n",
      "\n",
      "        data_url = \"http://lib.stat.cmu.edu/datasets/boston\"\n",
      "        raw_df = pd.read_csv(data_url, sep=\"\\s+\", skiprows=22, header=None)\n",
      "        data = np.hstack([raw_df.values[::2, :], raw_df.values[1::2, :2]])\n",
      "        target = raw_df.values[1::2, 2]\n",
      "\n",
      "    Alternative datasets include the California housing dataset (i.e.\n",
      "    :func:`~sklearn.datasets.fetch_california_housing`) and the Ames housing\n",
      "    dataset. You can load the datasets as follows::\n",
      "\n",
      "        from sklearn.datasets import fetch_california_housing\n",
      "        housing = fetch_california_housing()\n",
      "\n",
      "    for the California housing dataset and::\n",
      "\n",
      "        from sklearn.datasets import fetch_openml\n",
      "        housing = fetch_openml(name=\"house_prices\", as_frame=True)\n",
      "\n",
      "    for the Ames housing dataset.\n",
      "    \n",
      "  warnings.warn(msg, category=FutureWarning)\n"
     ]
    },
    {
     "name": "stdout",
     "output_type": "stream",
     "text": [
      "\n",
      "DecisionTree params:\n",
      "{'max_depth': 2, 'min_samples_split': 2, 'criterion': 'variance', 'debug': True}\n",
      "depth = 1, n_samples = 404\n",
      "best feature = 12, best threshold = 7.51\n",
      "54.63221936139991\n",
      "\n",
      "DecisionTree params:\n",
      "{'max_depth': 2, 'min_samples_split': 2, 'criterion': 'mad_median', 'debug': True}\n",
      "depth = 1, n_samples = 404\n",
      "best feature = 5, best threshold = 6.8\n",
      "40.82003832415897\n"
     ]
    }
   ],
   "source": [
    "# You code here (read-only in a JupyterBook, pls run jupyter-notebook to edit)\n",
    "boston = load_boston()\n",
    "\n",
    "X = boston.data\n",
    "y = boston.target\n",
    "\n",
    "X_train, X_test, y_train, y_test = train_test_split(\n",
    "    X, y, test_size=0.2, random_state=RANDOM_STATE\n",
    ")\n",
    "\n",
    "clf1 = DecisionTree(max_depth=2, criterion=\"variance\", debug=True)\n",
    "clf1.fit(X_train, y_train)\n",
    "\n",
    "print(mean_squared_error(clf1.predict(X_test), y_test))\n",
    "\n",
    "\n",
    "clf2 = DecisionTree(max_depth=2, criterion=\"mad_median\", debug=True)\n",
    "clf2.fit(X_train, y_train)\n",
    "\n",
    "print(mean_squared_error(clf2.predict(X_test), y_test))\n"
   ]
  },
  {
   "cell_type": "markdown",
   "metadata": {},
   "source": [
    "Using 5-folds cross-validation (`GridSearchCV`) pick up the optimal values of the `max_depth` and `criterion` parameters. For the parameter `max_depth` use `range(2, 9)`, for `criterion` use {'variance', 'mad_median'}. Quality measure is `scoring`='neg_mean_squared_error'."
   ]
  },
  {
   "cell_type": "code",
   "execution_count": 37,
   "metadata": {},
   "outputs": [
    {
     "name": "stdout",
     "output_type": "stream",
     "text": [
      "CPU times: total: 1.42 s\n",
      "Wall time: 8.99 s\n"
     ]
    },
    {
     "data": {
      "text/plain": [
       "GridSearchCV(cv=5, estimator=DecisionTree(criterion='mad_median'), n_jobs=8,\n",
       "             param_grid={'max_depth': [2, 3, 4, 5, 6, 7, 8]},\n",
       "             scoring='neg_mean_squared_error')"
      ]
     },
     "execution_count": 37,
     "metadata": {},
     "output_type": "execute_result"
    }
   ],
   "source": [
    "% % time\n",
    "tree_params = {\"max_depth\": list(range(2, 9))}\n",
    "\n",
    "grid_reg_crit_mad_median = GridSearchCV(\n",
    "    estimator=DecisionTree(criterion=\"mad_median\"),\n",
    "    param_grid=tree_params,\n",
    "    cv=5,\n",
    "    scoring=\"neg_mean_squared_error\",\n",
    "    n_jobs=8,\n",
    ")\n",
    "\n",
    "grid_reg_crit_mad_median.fit(X_train, y_train)\n",
    "# You code here (read-only in a JupyterBook, pls run jupyter-notebook to edit)\n"
   ]
  },
  {
   "cell_type": "code",
   "execution_count": 38,
   "metadata": {},
   "outputs": [
    {
     "name": "stdout",
     "output_type": "stream",
     "text": [
      "CPU times: total: 1.05 s\n",
      "Wall time: 4.48 s\n"
     ]
    },
    {
     "data": {
      "text/plain": [
       "GridSearchCV(cv=5, estimator=DecisionTree(criterion='variance'), n_jobs=8,\n",
       "             param_grid={'max_depth': [2, 3, 4, 5, 6, 7, 8]},\n",
       "             scoring='neg_mean_squared_error')"
      ]
     },
     "execution_count": 38,
     "metadata": {},
     "output_type": "execute_result"
    }
   ],
   "source": [
    "% % time\n",
    "grid_reg_crit_variance = GridSearchCV(\n",
    "    estimator=DecisionTree(criterion=\"variance\"),\n",
    "    param_grid=tree_params,\n",
    "    cv=5,\n",
    "    scoring=\"neg_mean_squared_error\",\n",
    "    n_jobs=8,\n",
    ")\n",
    "\n",
    "grid_reg_crit_variance.fit(X_train, y_train)\n",
    "# You code here (read-only in a JupyterBook, pls run jupyter-notebook to edit)\n"
   ]
  },
  {
   "cell_type": "markdown",
   "metadata": {},
   "source": [
    "Draw the plot of the mean quality measure `neg_mean_squared_error` for criteria `variance` and `mad_median` depending on `max_depth`."
   ]
  },
  {
   "cell_type": "code",
   "execution_count": 39,
   "metadata": {},
   "outputs": [
    {
     "data": {
      "image/png": "[encoded data removed]",
      "text/plain": [
       "<Figure size 432x288 with 1 Axes>"
      ]
     },
     "metadata": {
      "image/png": {
       "height": 266,
       "width": 386
      }
     },
     "output_type": "display_data"
    }
   ],
   "source": [
    "scores_for_crit_mad_median = -np.array(\n",
    "    grid_reg_crit_mad_median.cv_results_[\"mean_test_score\"]\n",
    ")\n",
    "scores_for_crit_variance = -np.array(\n",
    "    grid_reg_crit_variance.cv_results_[\"mean_test_score\"]\n",
    ")\n",
    "\n",
    "plt.plot(tree_params[\"max_depth\"],\n",
    "         scores_for_crit_mad_median, label=\"mad_median\")\n",
    "plt.plot(tree_params[\"max_depth\"], scores_for_crit_variance, label=\"variance\")\n",
    "plt.legend()\n",
    "plt.xlabel(\"max_depth\")\n",
    "plt.ylabel(\"MSE\")\n",
    "plt.show()\n"
   ]
  },
  {
   "cell_type": "markdown",
   "metadata": {},
   "source": [
    "**<font color='red'>Question 4.</font> Choose all correct statements:**\n",
    "1. Created plots have no intersection on the interval [2, 8].\n",
    "2. Created plots intersect each other only once on the interval [2, 8].\n",
    "3. Optimal value of the `max_depth` for each of the criteria is on the border of the interval [2, 8].\n",
    "4. The best quality at `max_depth` on the interval [2, 8] is reached using `mad_median` criterion. **[+]**"
   ]
  },
  {
   "cell_type": "code",
   "execution_count": 40,
   "metadata": {},
   "outputs": [
    {
     "name": "stdout",
     "output_type": "stream",
     "text": [
      "Criterion: mad_median\n",
      "Best params: {'max_depth': 5}\n",
      "Best cross validaton MSE: 21.157004600133206\n",
      "Criterion: variance\n",
      "Best params: {'max_depth': 6}\n",
      "Best cross validaton MSE: 21.464522957752898\n"
     ]
    }
   ],
   "source": [
    "print(\"Criterion: mad_median\")\n",
    "print(\"Best params:\", grid_reg_crit_mad_median.best_params_)\n",
    "print(\"Best cross validaton MSE:\", abs(grid_reg_crit_mad_median.best_score_))\n",
    "\n",
    "print(\"Criterion: variance\")\n",
    "print(\"Best params:\", grid_reg_crit_variance.best_params_)\n",
    "print(\"Best cross validaton MSE:\", abs(grid_reg_crit_variance.best_score_))\n"
   ]
  },
  {
   "cell_type": "markdown",
   "metadata": {},
   "source": [
    "**<font color='red'>Question 5.</font> What are the optimal values for `max_depth` and `criterion` parameters?**\n",
    "1. max_depth = 9, criterion = 'variance';\n",
    "2. max_depth = 5, criterion = 'mad_median'; **[+]**\n",
    "3. max_depth = 4, criterion = 'variance';\n",
    "4. max_depth = 2, criterion = 'mad_median';\n",
    "5. max_depth = 4, criterion = 'mad_median';\n",
    "6. max_depth = 5, criterion = 'variance'."
   ]
  },
  {
   "cell_type": "code",
   "execution_count": null,
   "metadata": {},
   "outputs": [],
   "source": []
  }
 ],
 "metadata": {
  "kernelspec": {
   "display_name": "mlcourse_ai_bonus",
   "language": "python",
   "name": "mlcourse_ai_bonus"
  },
  "language_info": {
   "codemirror_mode": {
    "name": "ipython",
    "version": 3
   },
   "file_extension": ".py",
   "mimetype": "text/x-python",
   "name": "python",
   "nbconvert_exporter": "python",
   "pygments_lexer": "ipython3",
   "version": "3.8.10"
  },
  "name": "lesson4_part2_Decision_trees.ipynb"
 },
 "nbformat": 4,
 "nbformat_minor": 4
}
